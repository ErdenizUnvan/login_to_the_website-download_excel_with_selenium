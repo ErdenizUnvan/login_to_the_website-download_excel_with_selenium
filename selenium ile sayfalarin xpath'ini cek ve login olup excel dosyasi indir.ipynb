{
 "cells": [
  {
   "cell_type": "code",
   "execution_count": 1,
   "id": "f508e9b6-edf5-489c-bf4c-6e54d4905d88",
   "metadata": {},
   "outputs": [
    {
     "name": "stdout",
     "output_type": "stream",
     "text": [
      "[Sayfa Elementleri ve XPath Bilgileri]\n",
      "\n",
      "[LOGIN]\n",
      "- <input> 'username' → //input[@name=\"username\"]\n",
      "- <input> 'password' → //input[@name=\"password\"]\n",
      "- <button> 'Giriş Yap' → //button[@type=\"submit\" and text()=\"Giriş Yap\"]\n"
     ]
    }
   ],
   "source": [
    "from selenium import webdriver\n",
    "from selenium.webdriver.common.by import By\n",
    "from selenium.webdriver.chrome.service import Service\n",
    "from selenium.webdriver.chrome.options import Options\n",
    "from webdriver_manager.chrome import ChromeDriverManager\n",
    "import time\n",
    "\n",
    "def extract_xpath_from_elements(driver, tag_list=[\"input\", \"button\", \"a\"]):\n",
    "    all_results = []\n",
    "    for tag in tag_list:\n",
    "        elements = driver.find_elements(By.TAG_NAME, tag)\n",
    "        for el in elements:\n",
    "            try:\n",
    "                text = el.text.strip()\n",
    "                label = el.get_attribute(\"placeholder\") or el.get_attribute(\"name\") or text or f\"<{tag}>\"\n",
    "\n",
    "                # Get useful attributes\n",
    "                id_attr = el.get_attribute(\"id\")\n",
    "                name_attr = el.get_attribute(\"name\")\n",
    "                data_test = el.get_attribute(\"data-test\")\n",
    "                type_attr = el.get_attribute(\"type\")\n",
    "                placeholder = el.get_attribute(\"placeholder\")\n",
    "\n",
    "                # Kısa XPath oluşturma mantığı\n",
    "                if data_test and text:\n",
    "                    xpath = f'//{tag}[@data-test=\"{data_test}\" and text()=\"{text}\"]'\n",
    "                elif id_attr:\n",
    "                    xpath = f'//{tag}[@id=\"{id_attr}\"]'\n",
    "                elif name_attr:\n",
    "                    xpath = f'//{tag}[@name=\"{name_attr}\"]'\n",
    "                elif type_attr and text:\n",
    "                    xpath = f'//{tag}[@type=\"{type_attr}\" and text()=\"{text}\"]'\n",
    "                elif placeholder:\n",
    "                    xpath = f'//{tag}[@placeholder=\"{placeholder}\"]'\n",
    "                elif text:\n",
    "                    xpath = f'//{tag}[text()=\"{text}\"]'\n",
    "                else:\n",
    "                    xpath = f'//{tag}'\n",
    "\n",
    "                all_results.append((tag, label.strip(), xpath))\n",
    "            except Exception:\n",
    "                continue\n",
    "    return all_results\n",
    "\n",
    "def get_full_xpath_summary():\n",
    "    options = Options()\n",
    "    options.add_argument(\"--headless\")  # Ekran açmasın\n",
    "    driver = webdriver.Chrome(service=Service(ChromeDriverManager().install()), options=options)\n",
    "\n",
    "    xpath_summary = {}\n",
    "\n",
    "    # Login\n",
    "    driver.get(\"http://127.0.0.1:5000/login\")\n",
    "    time.sleep(5)\n",
    "\n",
    "    xpath_summary[\"login\"] = extract_xpath_from_elements(driver)\n",
    "\n",
    "    driver.quit()\n",
    "    return xpath_summary\n",
    "\n",
    "def format_xpath_for_prompt(xpath_summary):\n",
    "    prompt_lines = [\"[Sayfa Elementleri ve XPath Bilgileri]\"]\n",
    "    for page, elements in xpath_summary.items():\n",
    "        prompt_lines.append(f\"\\n[{page.upper()}]\")\n",
    "        for tag, label, xpath in elements:\n",
    "            prompt_lines.append(f\"- <{tag}> '{label}' → {xpath}\")\n",
    "    return \"\\n\".join(prompt_lines)\n",
    "\n",
    "# Çalıştır\n",
    "summary = get_full_xpath_summary()\n",
    "formatted = format_xpath_for_prompt(summary)\n",
    "print(formatted)\n"
   ]
  },
  {
   "cell_type": "code",
   "execution_count": 2,
   "id": "af47acd3-3cd9-4a12-b198-9ae73cf61f5d",
   "metadata": {},
   "outputs": [],
   "source": [
    "username_password=[]\n",
    "for x in formatted.splitlines():\n",
    "    if  'input' in x:\n",
    "        username_password.append(x.split('→ '))\n",
    "    elif 'button' in x:\n",
    "        login_xpath=x.split('→ ')[1]\n",
    "username_xpath=username_password[0][1]\n",
    "password_xpath=username_password[1][1]"
   ]
  },
  {
   "cell_type": "code",
   "execution_count": 3,
   "id": "8076374e-51d8-4e58-bd21-fb57e996b093",
   "metadata": {},
   "outputs": [
    {
     "data": {
      "text/plain": [
       "'//button[@type=\"submit\" and text()=\"Giriş Yap\"]'"
      ]
     },
     "execution_count": 3,
     "metadata": {},
     "output_type": "execute_result"
    }
   ],
   "source": [
    "login_xpath"
   ]
  },
  {
   "cell_type": "code",
   "execution_count": 4,
   "id": "779e2a76-1586-43fb-8fd2-4d090d9e1d0e",
   "metadata": {},
   "outputs": [
    {
     "data": {
      "text/plain": [
       "'//input[@name=\"username\"]'"
      ]
     },
     "execution_count": 4,
     "metadata": {},
     "output_type": "execute_result"
    }
   ],
   "source": [
    "username_xpath"
   ]
  },
  {
   "cell_type": "code",
   "execution_count": 5,
   "id": "76ccb1cf-5756-4dcd-b489-5e70453cbb5f",
   "metadata": {},
   "outputs": [
    {
     "data": {
      "text/plain": [
       "'//input[@name=\"password\"]'"
      ]
     },
     "execution_count": 5,
     "metadata": {},
     "output_type": "execute_result"
    }
   ],
   "source": [
    "password_xpath"
   ]
  },
  {
   "cell_type": "code",
   "execution_count": 6,
   "id": "1f6daabd-639f-4331-b3dd-e277e4224306",
   "metadata": {},
   "outputs": [
    {
     "name": "stdin",
     "output_type": "stream",
     "text": [
      " ········\n",
      " ········\n"
     ]
    }
   ],
   "source": [
    "#admin\n",
    "#1234\n",
    "from getpass import getpass\n",
    "\n",
    "username=getpass()\n",
    "password=getpass()"
   ]
  },
  {
   "cell_type": "code",
   "execution_count": 7,
   "id": "73632429-3263-496e-8b48-804baa1e6a2e",
   "metadata": {},
   "outputs": [],
   "source": [
    "from selenium import webdriver\n",
    "from selenium.webdriver.common.by import By\n",
    "from webdriver_manager.chrome import ChromeDriverManager\n",
    "from selenium import webdriver\n",
    "from selenium.webdriver.chrome.service import Service\n",
    "from selenium.webdriver.chrome.options import Options\n",
    "import time\n",
    "\n",
    "# ChromeDriver'ın konumu\n",
    "#chrome_driver_path = 'C:\\\\webdrivers\\\\chromedriver.exe'\n",
    "\n",
    "# Automatically download the correct ChromeDriver version\n",
    "service = Service(ChromeDriverManager().install())\n",
    "\n",
    "# Chrome options\n",
    "options = Options()\n",
    "\n",
    "# Start WebDriver\n",
    "driver = webdriver.Chrome(service=service, options=options)\n",
    "\n",
    "\n",
    "# Navigate to the login page\n",
    "driver.get('http://127.0.0.1:5000/login')\n",
    "time.sleep(5)\n",
    "# Find and fill in the login form\n",
    "username_input = driver.find_element(By.XPATH, username_xpath)\n",
    "password_input = driver.find_element(By.XPATH, password_xpath)\n",
    "\n",
    "username_input.send_keys(username)\n",
    "password_input.send_keys(password)\n",
    "\n",
    "# Click the login button\n",
    "login_button = driver.find_element(By.XPATH, login_xpath)\n",
    "login_button.click()\n",
    "\n",
    "# Wait for login to complete\n",
    "time.sleep(5)\n",
    "\n",
    "# Navigate to the dashboard\n",
    "driver.get('http://127.0.0.1:5000/dashboard')\n",
    "\n",
    "# Wait for dashboard to load\n",
    "time.sleep(5)\n",
    "\n",
    "# Close the browser session\n",
    "driver.quit()\n"
   ]
  },
  {
   "cell_type": "code",
   "execution_count": 8,
   "id": "eb66c9c1-f0b5-4176-927e-738464338f95",
   "metadata": {},
   "outputs": [
    {
     "name": "stdout",
     "output_type": "stream",
     "text": [
      "[Sayfa Elementleri ve XPath Bilgileri]\n",
      "\n",
      "[DASHBOARD]\n",
      "- <button> 'Excel İndir' → //button[@type=\"submit\" and text()=\"Excel İndir\"]\n"
     ]
    }
   ],
   "source": [
    "from selenium import webdriver\n",
    "from selenium.webdriver.common.by import By\n",
    "from selenium.webdriver.chrome.service import Service\n",
    "from selenium.webdriver.chrome.options import Options\n",
    "from webdriver_manager.chrome import ChromeDriverManager\n",
    "import time\n",
    "\n",
    "def extract_xpath_from_elements(driver, tag_list=[\"input\", \"button\", \"a\"]):\n",
    "    all_results = []\n",
    "    for tag in tag_list:\n",
    "        elements = driver.find_elements(By.TAG_NAME, tag)\n",
    "        for el in elements:\n",
    "            try:\n",
    "                text = el.text.strip()\n",
    "                label = el.get_attribute(\"placeholder\") or el.get_attribute(\"name\") or text or f\"<{tag}>\"\n",
    "\n",
    "                # Get useful attributes\n",
    "                id_attr = el.get_attribute(\"id\")\n",
    "                name_attr = el.get_attribute(\"name\")\n",
    "                data_test = el.get_attribute(\"data-test\")\n",
    "                type_attr = el.get_attribute(\"type\")\n",
    "                placeholder = el.get_attribute(\"placeholder\")\n",
    "\n",
    "                # Kısa XPath oluşturma mantığı\n",
    "                if data_test and text:\n",
    "                    xpath = f'//{tag}[@data-test=\"{data_test}\" and text()=\"{text}\"]'\n",
    "                elif id_attr:\n",
    "                    xpath = f'//{tag}[@id=\"{id_attr}\"]'\n",
    "                elif name_attr:\n",
    "                    xpath = f'//{tag}[@name=\"{name_attr}\"]'\n",
    "                elif type_attr and text:\n",
    "                    xpath = f'//{tag}[@type=\"{type_attr}\" and text()=\"{text}\"]'\n",
    "                elif placeholder:\n",
    "                    xpath = f'//{tag}[@placeholder=\"{placeholder}\"]'\n",
    "                elif text:\n",
    "                    xpath = f'//{tag}[text()=\"{text}\"]'\n",
    "                else:\n",
    "                    xpath = f'//{tag}'\n",
    "\n",
    "                all_results.append((tag, label.strip(), xpath))\n",
    "            except Exception:\n",
    "                continue\n",
    "    return all_results\n",
    "\n",
    "def get_full_xpath_summary():\n",
    "    options = Options()\n",
    "    options.add_argument(\"--headless\")  # Ekran açmasın\n",
    "    driver = webdriver.Chrome(service=Service(ChromeDriverManager().install()), options=options)\n",
    "\n",
    "    xpath_summary = {}\n",
    "\n",
    "    # Login\n",
    "    driver.get(\"http://127.0.0.1:5000/login\")\n",
    "    time.sleep(5)\n",
    "\n",
    "    username_input = driver.find_element(By.XPATH, username_xpath)\n",
    "    password_input = driver.find_element(By.XPATH, password_xpath)\n",
    "    \n",
    "    username_input.send_keys(username)\n",
    "    password_input.send_keys(password)\n",
    "    \n",
    "    # Click the login button\n",
    "    login_button = driver.find_element(By.XPATH, login_xpath)\n",
    "    login_button.click()\n",
    "\n",
    "    # Wait for login to complete\n",
    "    time.sleep(5)\n",
    "    \n",
    "    # Navigate to the dashboard\n",
    "    driver.get('http://127.0.0.1:5000/dashboard')\n",
    "    \n",
    "    # Wait for dashboard to load\n",
    "    time.sleep(5)\n",
    "\n",
    "    xpath_summary[\"dashboard\"] = extract_xpath_from_elements(driver)\n",
    "\n",
    "    driver.quit()\n",
    "    return xpath_summary\n",
    "\n",
    "def format_xpath_for_prompt(xpath_summary):\n",
    "    prompt_lines = [\"[Sayfa Elementleri ve XPath Bilgileri]\"]\n",
    "    for page, elements in xpath_summary.items():\n",
    "        prompt_lines.append(f\"\\n[{page.upper()}]\")\n",
    "        for tag, label, xpath in elements:\n",
    "            prompt_lines.append(f\"- <{tag}> '{label}' → {xpath}\")\n",
    "    return \"\\n\".join(prompt_lines)\n",
    "\n",
    "# Çalıştır\n",
    "summary = get_full_xpath_summary()\n",
    "formatted = format_xpath_for_prompt(summary)\n",
    "print(formatted)"
   ]
  },
  {
   "cell_type": "code",
   "execution_count": 9,
   "id": "19803b55-a6fd-470a-b607-b6ba70a9c7f0",
   "metadata": {},
   "outputs": [
    {
     "data": {
      "text/plain": [
       "'//button[@type=\"submit\" and text()=\"Excel İndir\"]'"
      ]
     },
     "execution_count": 9,
     "metadata": {},
     "output_type": "execute_result"
    }
   ],
   "source": [
    "for x in formatted.splitlines():\n",
    "    if  'input' in x:\n",
    "        username_password.append(x.split('→ '))\n",
    "    elif 'button' in x:\n",
    "        download_xpath=x.split('→ ')[1]\n",
    "download_xpath"
   ]
  },
  {
   "cell_type": "code",
   "execution_count": 10,
   "id": "f811b832-f725-446f-896f-a4a785162321",
   "metadata": {},
   "outputs": [
    {
     "name": "stdout",
     "output_type": "stream",
     "text": [
      "excel dosyasisini indirimek icin dugmeye basildi.\n",
      "islem tamam\n"
     ]
    }
   ],
   "source": [
    "from selenium import webdriver\n",
    "from selenium.webdriver.common.by import By\n",
    "from webdriver_manager.chrome import ChromeDriverManager\n",
    "from selenium import webdriver\n",
    "from selenium.webdriver.chrome.service import Service\n",
    "from selenium.webdriver.chrome.options import Options\n",
    "import time\n",
    "import os\n",
    "\n",
    "# ChromeDriver'ın konumu\n",
    "#chrome_driver_path = 'C:\\\\webdrivers\\\\chromedriver.exe'\n",
    "\n",
    "# Automatically download the correct ChromeDriver version\n",
    "service = Service(ChromeDriverManager().install())\n",
    "\n",
    "# Chrome options\n",
    "options = Options()\n",
    "\n",
    "# Start WebDriver\n",
    "driver = webdriver.Chrome(service=service, options=options)\n",
    "\n",
    "\n",
    "# Navigate to the login page\n",
    "driver.get('http://127.0.0.1:5000/login')\n",
    "time.sleep(5)\n",
    "# Find and fill in the login form\n",
    "username_input = driver.find_element(By.XPATH, username_xpath)\n",
    "password_input = driver.find_element(By.XPATH, password_xpath)\n",
    "\n",
    "username_input.send_keys(username)\n",
    "password_input.send_keys(password)\n",
    "\n",
    "# Click the login button\n",
    "login_button = driver.find_element(By.XPATH, login_xpath)\n",
    "login_button.click()\n",
    "\n",
    "# Wait for login to complete\n",
    "# Wait for dashboard to load\n",
    "\n",
    "time.sleep(5)\n",
    "\n",
    "# Navigate to the dashboard\n",
    "driver.get('http://127.0.0.1:5000/dashboard')\n",
    "\n",
    "\n",
    "# Click the login button\n",
    "download_button = driver.find_element(By.XPATH, download_xpath)\n",
    "download_button.click()\n",
    "\n",
    "print('excel dosyasisini indirimek icin dugmeye basildi.')\n",
    "\n",
    "time.sleep(5)\n",
    "\n",
    "\n",
    "if 'ip.xlsx' in os.listdir('C:/Users/Dell/Downloads'):\n",
    "    print('islem tamam')\n",
    "else:\n",
    "    print('dosya yok.')\n",
    "\n",
    "# Close the browser session\n",
    "driver.quit()\n"
   ]
  },
  {
   "cell_type": "code",
   "execution_count": null,
   "id": "c86ff8af-2a67-46de-8cac-07561503803e",
   "metadata": {},
   "outputs": [],
   "source": []
  },
  {
   "cell_type": "code",
   "execution_count": null,
   "id": "8d58f31d-acde-4953-b724-6cdf478f203e",
   "metadata": {},
   "outputs": [],
   "source": []
  },
  {
   "cell_type": "code",
   "execution_count": null,
   "id": "4ab2dcb7-be6e-4434-8c7c-afeb97be973b",
   "metadata": {},
   "outputs": [],
   "source": []
  }
 ],
 "metadata": {
  "kernelspec": {
   "display_name": "Python 3 (ipykernel)",
   "language": "python",
   "name": "python3"
  },
  "language_info": {
   "codemirror_mode": {
    "name": "ipython",
    "version": 3
   },
   "file_extension": ".py",
   "mimetype": "text/x-python",
   "name": "python",
   "nbconvert_exporter": "python",
   "pygments_lexer": "ipython3",
   "version": "3.8.8"
  }
 },
 "nbformat": 4,
 "nbformat_minor": 5
}
